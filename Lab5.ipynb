{
 "cells": [
  {
   "cell_type": "markdown",
   "metadata": {},
   "source": [
    "### Mix & Match Calculator"
   ]
  },
  {
   "cell_type": "code",
   "execution_count": 3,
   "metadata": {},
   "outputs": [
    {
     "name": "stdout",
     "output_type": "stream",
     "text": [
      "Results for the first 5 rows:\n",
      "Item: Bread, Quantity: 48, Total Cost: 259.23999999999995\n",
      "Item: Coffee Powder, Quantity: 62, Total Cost: 398.97\n",
      "Item: Butter, Quantity: 67, Total Cost: 372.33000000000004\n",
      "Item: Jam, Quantity: 69, Total Cost: 474.87\n",
      "Item: Choco Powder, Quantity: 75, Total Cost: 401.01000000000005\n",
      "\n",
      "Results for the last 10 rows:\n",
      "Item: Bread, Quantity: 48, Total Cost: 259.23999999999995\n",
      "Item: Coffee Powder, Quantity: 62, Total Cost: 398.97\n",
      "Item: Butter, Quantity: 67, Total Cost: 372.33000000000004\n",
      "Item: Jam, Quantity: 69, Total Cost: 474.87\n",
      "Item: Choco Powder, Quantity: 75, Total Cost: 401.01000000000005\n",
      "Item: Rice, Quantity: 58, Total Cost: 349.43\n",
      "Item: Biscuit, Quantity: 44, Total Cost: 161.54999999999998\n",
      "Item: Milk, Quantity: 43, Total Cost: 195.07\n",
      "Item: Apple, Quantity: 50, Total Cost: 331.98999999999995\n",
      "Item: Flour, Quantity: 55, Total Cost: 194.31999999999996\n",
      "\n",
      "Total cost for each unique item:\n",
      "Item Name: Bread, Total Quantity: 48, Total Cost: 259.23999999999995\n",
      "Item Name: Coffee Powder, Total Quantity: 62, Total Cost: 398.97\n",
      "Item Name: Butter, Total Quantity: 67, Total Cost: 372.33000000000004\n",
      "Item Name: Jam, Total Quantity: 69, Total Cost: 474.87\n",
      "Item Name: Choco Powder, Total Quantity: 75, Total Cost: 401.01000000000005\n",
      "Item Name: Rice, Total Quantity: 58, Total Cost: 349.43\n",
      "Item Name: Biscuit, Total Quantity: 44, Total Cost: 161.54999999999998\n",
      "Item Name: Milk, Total Quantity: 43, Total Cost: 195.07\n",
      "Item Name: Apple, Total Quantity: 50, Total Cost: 331.98999999999995\n",
      "Item Name: Flour, Total Quantity: 55, Total Cost: 194.31999999999996\n",
      "\n",
      "Minimum and Maximum Prices for Each Item Sold:\n",
      "Item: Bread, Min Price: 1.94, Max Price: 8.93\n",
      "Item: Coffee Powder, Min Price: 1.83, Max Price: 9.83\n",
      "Item: Butter, Min Price: 1.64, Max Price: 9.05\n",
      "Item: Jam, Min Price: 1.93, Max Price: 9.81\n",
      "Item: Choco Powder, Min Price: 2.51, Max Price: 7.41\n",
      "Item: Rice, Min Price: 1.43, Max Price: 9.66\n",
      "Item: Biscuit, Min Price: 1.16, Max Price: 8.67\n",
      "Item: Milk, Min Price: 1.67, Max Price: 9.54\n",
      "Item: Apple, Min Price: 1.21, Max Price: 9.82\n",
      "Item: Flour, Min Price: 1.23, Max Price: 6.82\n"
     ]
    }
   ],
   "source": [
    "import random\n",
    "\n",
    "# Lists of items, quantities, and prices\n",
    "items = [\"Apple\", \"Coffee Powder\", \"Choco Powder\", \"Milk\", \"Biscuit\", \"Bread\", \"Rice\", \"Flour\", \"Jam\", \"Butter\"]\n",
    "rows = []\n",
    "\n",
    "# Generate random data and write to a text file\n",
    "with open('nishi.txt', 'w') as txtfile:\n",
    "    txtfile.write(\"Item,Quantity,UnitPrice,TotalCost\\n\")\n",
    "\n",
    "    for _ in range(100):\n",
    "        item = random.choice(items)\n",
    "        quantity = random.randint(1, 10)\n",
    "        unit_price = round(random.random() * 9 + 1, 2)\n",
    "        total_cost = round(quantity * unit_price, 2)\n",
    "        txtfile.write(f\"{item},{quantity},{unit_price},{total_cost}\\n\")\n",
    "        rows.append([item, quantity, unit_price, total_cost])\n",
    "\n",
    "# Calculate results\n",
    "item_data = {}\n",
    "\n",
    "for row in rows:\n",
    "    item, quantity, unit_price, total_cost = row\n",
    "\n",
    "    # Initialize item data if it doesn't exist\n",
    "    if item not in item_data:\n",
    "        item_data[item] = {\"total_quantity\": 0, \"total_cost\": 0, \"min_price\": unit_price, \"max_price\": unit_price}\n",
    "\n",
    "    # Update item data\n",
    "    item_data[item][\"total_quantity\"] += quantity\n",
    "    item_data[item][\"total_cost\"] += total_cost\n",
    "    item_data[item][\"min_price\"] = min(item_data[item][\"min_price\"], unit_price)\n",
    "    item_data[item][\"max_price\"] = max(item_data[item][\"max_price\"], unit_price)\n",
    "\n",
    "# Print results\n",
    "print(\"Results for the first 5 rows:\")\n",
    "for item, data in list(item_data.items())[:5]:\n",
    "    print(f\"Item: {item}, Quantity: {data['total_quantity']}, Total Cost: {data['total_cost']}\")\n",
    "\n",
    "print(\"\\nResults for the last 10 rows:\")\n",
    "for item, data in list(item_data.items())[-10:]:\n",
    "    print(f\"Item: {item}, Quantity: {data['total_quantity']}, Total Cost: {data['total_cost']}\")\n",
    "\n",
    "print(\"\\nTotal cost for each unique item:\")\n",
    "for item, data in item_data.items():\n",
    "    print(f\"Item Name: {item}, Total Quantity: {data['total_quantity']}, Total Cost: {data['total_cost']}\")\n",
    "\n",
    "print(\"\\nMinimum and Maximum Prices for Each Item Sold:\")\n",
    "for item, data in item_data.items():\n",
    "    min_price = min(data[\"prices\"])\n",
    "    max_price = max(data[\"prices\"])\n",
    "    print(f\"Item: {item}, Min Price: {min_price}, Max Price: {max_price}\")\n"
   ]
  },
  {
   "cell_type": "code",
   "execution_count": null,
   "metadata": {},
   "outputs": [],
   "source": []
  }
 ],
 "metadata": {
  "kernelspec": {
   "display_name": "Python 3",
   "language": "python",
   "name": "python3"
  },
  "language_info": {
   "codemirror_mode": {
    "name": "ipython",
    "version": 3
   },
   "file_extension": ".py",
   "mimetype": "text/x-python",
   "name": "python",
   "nbconvert_exporter": "python",
   "pygments_lexer": "ipython3",
   "version": "3.11.5"
  },
  "orig_nbformat": 4
 },
 "nbformat": 4,
 "nbformat_minor": 2
}
