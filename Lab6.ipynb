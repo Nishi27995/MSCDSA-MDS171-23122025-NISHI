{
 "cells": [
  {
   "cell_type": "markdown",
   "metadata": {},
   "source": []
  },
  {
   "cell_type": "code",
   "execution_count": 6,
   "metadata": {},
   "outputs": [
    {
     "name": "stdout",
     "output_type": "stream",
     "text": [
      "nishi\n",
      "['n', 'i', 's', 'h', 'i']\n",
      "The no of vowels:  2\n",
      "The no of a: 0\n",
      "The no of e: 0\n",
      "The no of i: 2\n",
      "The no of o: 0\n",
      "The no of u: 0\n",
      "The percentage of vowels in the string is: 40.0\n"
     ]
    }
   ],
   "source": [
    "def count_vowels():\n",
    "    u = input(\"Enter the string: \")\n",
    "    print(u)\n",
    "    s = u.lower()\n",
    "    lst = list(s)\n",
    "    print(lst)\n",
    "    count = 0\n",
    "    v = 0\n",
    "    u = 0\n",
    "    w = 0\n",
    "    y = 0\n",
    "    z = 0\n",
    "    for i in lst:\n",
    "        if i == \"a\" or i == \"e\" or i == \"i\" or i == \"o\" or i == \"u\":  # Fixed the condition\n",
    "            count = count + 1\n",
    "\n",
    "    print(\"The no of vowels: \", count)  # Print the total no of vowels\n",
    "\n",
    "    for i in lst:\n",
    "        if i == \"a\":\n",
    "            v = v + 1\n",
    "    print(\"The no of a:\", v)\n",
    "\n",
    "    for i in lst:\n",
    "        if i == \"e\":\n",
    "            u = u + 1\n",
    "    print(\"The no of e:\", u)\n",
    "\n",
    "    for i in lst:\n",
    "        if i == \"i\":\n",
    "            w = w + 1\n",
    "    print(\"The no of i:\", w)\n",
    "\n",
    "    for i in lst:\n",
    "        if i == \"o\":\n",
    "            y = y + 1\n",
    "    print(\"The no of o:\", y)\n",
    "\n",
    "    for i in lst:\n",
    "        if i == \"u\":\n",
    "            z = z + 1\n",
    "    print(\"The no of u:\", z)\n",
    "\n",
    "    length = len(s)\n",
    "    percent = (count / length) * 100\n",
    "    print(\"The percentage of vowels in the string is:\", percent)\n",
    "\n",
    "count_vowels()\n"
   ]
  },
  {
   "cell_type": "code",
   "execution_count": 7,
   "metadata": {},
   "outputs": [
    {
     "name": "stdout",
     "output_type": "stream",
     "text": [
      "milo\n",
      "['m', 'i', 'l', 'o']\n",
      "The no of vowels:  2\n",
      "The no of a: 0\n",
      "The no of e: 0\n",
      "The no of i: 1\n",
      "The no of o: 1\n",
      "The no of u: 0\n",
      "The percentage of vowels in the string is: 50.0\n"
     ]
    }
   ],
   "source": [
    "count_vowels()"
   ]
  },
  {
   "cell_type": "code",
   "execution_count": 8,
   "metadata": {},
   "outputs": [
    {
     "name": "stdout",
     "output_type": "stream",
     "text": [
      "Lucka\n",
      "['l', 'u', 'c', 'k', 'a']\n",
      "The no of vowels:  2\n",
      "The no of a: 1\n",
      "The no of e: 0\n",
      "The no of i: 0\n",
      "The no of o: 0\n",
      "The no of u: 1\n",
      "The percentage of vowels in the string is: 40.0\n"
     ]
    }
   ],
   "source": [
    "count_vowels()"
   ]
  }
 ],
 "metadata": {
  "kernelspec": {
   "display_name": "Python 3",
   "language": "python",
   "name": "python3"
  },
  "language_info": {
   "codemirror_mode": {
    "name": "ipython",
    "version": 3
   },
   "file_extension": ".py",
   "mimetype": "text/x-python",
   "name": "python",
   "nbconvert_exporter": "python",
   "pygments_lexer": "ipython3",
   "version": "3.11.5"
  },
  "orig_nbformat": 4
 },
 "nbformat": 4,
 "nbformat_minor": 2
}
