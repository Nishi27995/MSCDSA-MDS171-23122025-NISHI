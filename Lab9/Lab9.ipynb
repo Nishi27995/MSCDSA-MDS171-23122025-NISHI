{
 "cells": [
  {
   "cell_type": "markdown",
   "metadata": {},
   "source": [
    "### Expenses Tracker"
   ]
  },
  {
   "cell_type": "code",
   "execution_count": 2,
   "metadata": {},
   "outputs": [
    {
     "ename": "NameError",
     "evalue": "name '_name_' is not defined",
     "output_type": "error",
     "traceback": [
      "\u001b[1;31m---------------------------------------------------------------------------\u001b[0m",
      "\u001b[1;31mNameError\u001b[0m                                 Traceback (most recent call last)",
      "\u001b[1;32me:\\MSCDSA-MDS171-23122025-NISHI\\Lab9\\Lab9.ipynb Cell 2\u001b[0m line \u001b[0;36m8\n\u001b[0;32m     <a href='vscode-notebook-cell:/e%3A/MSCDSA-MDS171-23122025-NISHI/Lab9/Lab9.ipynb#W1sZmlsZQ%3D%3D?line=84'>85</a>\u001b[0m         \u001b[39melse\u001b[39;00m:\n\u001b[0;32m     <a href='vscode-notebook-cell:/e%3A/MSCDSA-MDS171-23122025-NISHI/Lab9/Lab9.ipynb#W1sZmlsZQ%3D%3D?line=85'>86</a>\u001b[0m             \u001b[39mprint\u001b[39m(\u001b[39m\"\u001b[39m\u001b[39mInvalid choice. Please try again.\u001b[39m\u001b[39m\"\u001b[39m)\n\u001b[1;32m---> <a href='vscode-notebook-cell:/e%3A/MSCDSA-MDS171-23122025-NISHI/Lab9/Lab9.ipynb#W1sZmlsZQ%3D%3D?line=87'>88</a>\u001b[0m \u001b[39mif\u001b[39;00m _name_ \u001b[39m==\u001b[39m \u001b[39m\"\u001b[39m\u001b[39m__main__\u001b[39m\u001b[39m\"\u001b[39m:\n\u001b[0;32m     <a href='vscode-notebook-cell:/e%3A/MSCDSA-MDS171-23122025-NISHI/Lab9/Lab9.ipynb#W1sZmlsZQ%3D%3D?line=88'>89</a>\u001b[0m     main()\n",
      "\u001b[1;31mNameError\u001b[0m: name '_name_' is not defined"
     ]
    }
   ],
   "source": [
    "class ExpenseTracker:\n",
    " def _init_(self):\n",
    "        self.data = []\n",
    "\n",
    " def add_transaction(self, expense_type, category, cost, description, date):\n",
    "        self.data.append({\"type\": expense_type, \"category\": category, \"cost\": cost, \"description\": description, \"date\": date})\n",
    "\n",
    " def total_expense(self):\n",
    "        total = 0\n",
    "        for transaction in self.data:\n",
    "            if transaction[\"type\"].lower() == \"expense\":\n",
    "                total += float(transaction[\"cost\"])\n",
    "        return total\n",
    "\n",
    " def total_income(self):\n",
    "        total = 0\n",
    "        for transaction in self.data:\n",
    "            if transaction[\"type\"].lower() == \"income\":\n",
    "                total += float(transaction[\"cost\"])\n",
    "        return total\n",
    "\n",
    " def save_to_csv(data, filename):\n",
    "    with open(filename, 'w') as csvfile:\n",
    "        csvfile.write(\"type,category,cost,description,date\\n\")\n",
    "        for transaction in data:\n",
    "            row = \",\".join([transaction[\"type\"], transaction[\"category\"], str(transaction[\"cost\"]), transaction[\"description\"], transaction[\"date\"]])\n",
    "            csvfile.write(row + \"\\n\")\n",
    "\n",
    " def load_from_csv(filename):\n",
    "    tracker = ExpenseTracker()\n",
    "    try:\n",
    "        with open(filename, 'r') as csvfile:\n",
    "            next(csvfile)  # Skip the header row\n",
    "            for line in csvfile:\n",
    "                parts = line.strip().split(\",\")\n",
    "                expense_type = parts[0]\n",
    "                category = parts[1]\n",
    "                cost = float(parts[2])\n",
    "                description = parts[3]\n",
    "                date = parts[4]\n",
    "                tracker.add_transaction(expense_type, category, cost, description, date)\n",
    "    except FileNotFoundError:\n",
    "        pass  # File doesn't exist yet\n",
    "\n",
    "    return tracker\n",
    "\n",
    " def main():\n",
    "    filename = \"pythonClass.csv\"\n",
    "    tracker = load_from_csv(filename)\n",
    "\n",
    "    while True:\n",
    "        print(\"\\nMenu:\")\n",
    "        print(\"1. Add Expense\")\n",
    "        print(\"2. Add Income\")\n",
    "        print(\"3. View Total Expense\")\n",
    "        print(\"4. View Total Income\")\n",
    "        print(\"5. Save and Exit\")\n",
    "\n",
    "        choice = input(\"Enter your choice: \")\n",
    "\n",
    "        if choice == '1':\n",
    "            expense_type = \"Expense\"\n",
    "            category = input(\"Enter the expense category: \")\n",
    "            cost = float(input(\"Enter the expense cost: \"))\n",
    "            description = input(\"Enter a description: \")\n",
    "            date = input(\"Enter the date (YYYY-MM-DD): \")\n",
    "            tracker.add_transaction(expense_type, category, cost, description, date)\n",
    "        elif choice == '2':\n",
    "            expense_type = \"Income\"\n",
    "            category = input(\"Enter the income category: \")\n",
    "            cost = float(input(\"Enter the income amount: \"))\n",
    "            description = input(\"Enter a description: \")\n",
    "            date = input(\"Enter the date (YYYY-MM-DD): \")\n",
    "            tracker.add_transaction(expense_type, category, cost, description, date)\n",
    "        elif choice == '3':\n",
    "            total_expense = tracker.total_expense()\n",
    "            print(f\"Total Expense: {total_expense}\")\n",
    "        elif choice == '4':\n",
    "            total_income = tracker.total_income()\n",
    "            print(f\"Total Income: {total_income}\")\n",
    "        elif choice == '5':\n",
    "            save_to_csv(tracker.data, filename)\n",
    "            print(\"Data saved. Exiting...\")\n",
    "            break\n",
    "        else:\n",
    "            print(\"Invalid choice. Please try again.\")\n",
    "\n",
    "if _name_ == \"__main__\":\n",
    "    main()"
   ]
  },
  {
   "cell_type": "markdown",
   "metadata": {},
   "source": []
  }
 ],
 "metadata": {
  "kernelspec": {
   "display_name": "Python 3",
   "language": "python",
   "name": "python3"
  },
  "language_info": {
   "codemirror_mode": {
    "name": "ipython",
    "version": 3
   },
   "file_extension": ".py",
   "mimetype": "text/x-python",
   "name": "python",
   "nbconvert_exporter": "python",
   "pygments_lexer": "ipython3",
   "version": "3.11.5"
  },
  "orig_nbformat": 4
 },
 "nbformat": 4,
 "nbformat_minor": 2
}
