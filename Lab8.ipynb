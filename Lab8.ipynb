{
 "cells": [
  {
   "cell_type": "markdown",
   "metadata": {},
   "source": [
    "### Matrix Matrices"
   ]
  },
  {
   "cell_type": "code",
   "execution_count": null,
   "metadata": {},
   "outputs": [],
   "source": [
    "matrices = {}\n",
    "def collect_matrix(matrix_name):\n",
    "    rows = int(input(\"Enter the number of rows for {}: \".format(matrix_name)))\n",
    "    columns = int(input(\"Enter the number of columns for {}: \".format(matrix_name)))\n",
    "    matrix = []\n",
    "    for i in range(rows):\n",
    "        row = []\n",
    "        for j in range(columns):\n",
    "            element = int(input(\"Enter element ({}, {}): \".format(i, j)))\n",
    "            row.append(element)\n",
    "        matrix.append(row)\n",
    "    matrices[matrix_name] = matrix\n",
    "def process_matrices():\n",
    "    matrix_1 = matrices[\"matrix 1\"]\n",
    "    matrix_2 = matrices[\"matrix 2\"]\n",
    "    if len(matrix_1[0]) != len(matrix_2):\n",
    "        print(\"Error: The matrices are not compatible for multiplication.\")\n",
    "        return\n",
    "    result_matrix = []\n",
    "    for i in range(len(matrix_1)):\n",
    "        row = []\n",
    "        for j in range(len(matrix_2[0])):\n",
    "            element = 0\n",
    "            for k in range(len(matrix_1[0])):\n",
    "                element += matrix_1[i][k] * matrix_2[k][j]\n",
    "            row.append(element)\n",
    "        result_matrix.append(row)\n",
    "    matrices[\"result matrix\"] = result_matrix\n",
    "def display_result():\n",
    "    result_matrix = matrices[\"result matrix\"]\n",
    "    with open(\"result.txt\", \"w\") as file:\n",
    "        for row in result_matrix:\n",
    "            for element in row:\n",
    "                file.write(str(element) + \" \")\n",
    "            file.write(\"\\n\")\n",
    "collect_matrix(\"matrix 1\")\n",
    "collect_matrix(\"matrix 2\")\n",
    "process_matrices()\n",
    "display_result()"
   ]
  }
 ],
 "metadata": {
  "kernelspec": {
   "display_name": "Python 3",
   "language": "python",
   "name": "python3"
  },
  "language_info": {
   "codemirror_mode": {
    "name": "ipython",
    "version": 3
   },
   "file_extension": ".py",
   "mimetype": "text/x-python",
   "name": "python",
   "nbconvert_exporter": "python",
   "pygments_lexer": "ipython3",
   "version": "3.11.5"
  },
  "orig_nbformat": 4
 },
 "nbformat": 4,
 "nbformat_minor": 2
}
